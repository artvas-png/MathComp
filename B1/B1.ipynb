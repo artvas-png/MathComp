{
 "cells": [
  {
   "cell_type": "code",
   "execution_count": 72,
   "metadata": {},
   "outputs": [],
   "source": [
    "import numpy as np\n",
    "import scipy.linalg as lin\n",
    "import copy"
   ]
  },
  {
   "cell_type": "code",
   "execution_count": 73,
   "metadata": {},
   "outputs": [],
   "source": [
    "\n",
    "def rnd_mat(a, b):\n",
    "    return np.random.random((a, b))\n",
    "\n",
    "def crt_rnd_d(n):\n",
    "    x=np.array(np.random.random((1, n)))\n",
    "    return np.diag(x[0])\n",
    "\n",
    "def rnd_triu(n):\n",
    "    return np.triu(rnd_mat(n ,n))\n",
    "\n",
    "def rnd_tril(n):\n",
    "    return np.tril(rnd_mat(n, n))\n",
    "\n",
    "def crt_rk(n, m):\n",
    "    if m==0:\n",
    "        return np.zeros((n, n))\n",
    "    A=np.random.randint(5, size=(n, m))-2.5\n",
    "    B=copy.deepcopy(A)\n",
    "    for i in range(n-m):\n",
    "        x=np.random.randint(5, size=(m, 1))-2.5\n",
    "        w=B@x\n",
    "        A=np.hstack((A, w))\n",
    "    return np.array(A, dtype=float)\n",
    "\n",
    "def rnd_sing(n):\n",
    "    r=np.random.randint(n)\n",
    "    return crt_rk(n, r)"
   ]
  },
  {
   "cell_type": "code",
   "execution_count": 75,
   "metadata": {},
   "outputs": [
    {
     "name": "stdout",
     "output_type": "stream",
     "text": [
      "[[-1.5  -0.75  2.25]\n",
      " [-2.5  -1.25  3.75]\n",
      " [ 1.5   0.75 -2.25]]\n"
     ]
    }
   ],
   "source": [
    "X=crt_rk(3, 1)\n",
    "print(X)"
   ]
  },
  {
   "cell_type": "code",
   "execution_count": 184,
   "metadata": {},
   "outputs": [
    {
     "name": "stdout",
     "output_type": "stream",
     "text": [
      "49.963\n"
     ]
    }
   ],
   "source": [
    "#Вероятность матрицы оказаться вырожденной:\n",
    "eps=1.56e-16\n",
    "\n",
    "N=100000\n",
    "counter=0\n",
    "for i in range(N):\n",
    "    r=np.random.randint(2, 15)\n",
    "    if lin.det(rnd_mat(r, r))<=eps:\n",
    "        counter+=1\n",
    "print(counter/N*100)"
   ]
  },
  {
   "cell_type": "code",
   "execution_count": 22,
   "metadata": {},
   "outputs": [],
   "source": [
    "pi=3.14159265358979323846\n",
    "\n",
    "def exp(x):\n",
    "    k=1\n",
    "    term=1\n",
    "    sum=0\n",
    "    while sum != sum + term:\n",
    "            sum+=term\n",
    "            term=term*x/k\n",
    "            k+=1            \n",
    "    return sum\n",
    "\n",
    "def sin(x):\n",
    "    k=3\n",
    "    term=x\n",
    "    sum=0\n",
    "    while sum != sum + term:\n",
    "            sum+=term\n",
    "            term=-term*x*x/(k*(k-1))\n",
    "            k+=2            \n",
    "    return sum\n",
    "\n",
    "def cos(x):\n",
    "    k=2\n",
    "    term=1\n",
    "    sum=0\n",
    "    while sum != sum + term:\n",
    "            sum+=term\n",
    "            term=-term*x*x/(k*(k-1))\n",
    "            k+=2            \n",
    "    return sum\n",
    "\n",
    "def ln(x):\n",
    "    k=1\n",
    "    x=x-1\n",
    "    term=x\n",
    "    sum=0\n",
    "    while sum != sum + term:\n",
    "            sum+=term/k\n",
    "            k+=1\n",
    "            term=-term*x           \n",
    "    return sum\n",
    "\n",
    "def tg(x):\n",
    "    return sin(x)/cos(x)\n",
    "\n",
    "def ctg(x):\n",
    "    return cos(x)/sin(x)\n",
    "\n",
    "def arcsin(x):\n",
    "    n=0\n",
    "    k=0\n",
    "    sum=0\n",
    "    term=x\n",
    "\n",
    "    while sum!= sum + term:\n",
    "        sum+=term/(2*k+1)\n",
    "        n+=2\n",
    "        k+=1\n",
    "        term=term*x*x*n*(n-1)/(k*k*4)\n",
    "    return sum\n",
    "\n",
    "def arccos(x):\n",
    "    return pi/2 - arcsin(x)\n",
    "\n",
    "def arctg(x):\n",
    "    k=1\n",
    "    sum=0\n",
    "    term=x\n",
    "    while sum!= sum + term:      \n",
    "        sum+=term/(2*k-1)\n",
    "        term=-term*x*x\n",
    "        k+=1        \n",
    "    return sum\n",
    "\n",
    "def sh(x):\n",
    "    return (exp(x)-exp(-x))/2\n",
    "\n",
    "def ch(x):\n",
    "    return (exp(x)+exp(-x))/2\n",
    "\n",
    "def th(x):\n",
    "    return sh(x)/ch(x)\n",
    "\n",
    "def arth(x):  \n",
    "    k=1\n",
    "    sum=0\n",
    "    term=x\n",
    "    while sum!= sum + term:\n",
    "        sum+=term/(2*k-1)\n",
    "        term=term*x*x\n",
    "        k+=1        \n",
    "    return sum\n"
   ]
  },
  {
   "cell_type": "code",
   "execution_count": 21,
   "metadata": {},
   "outputs": [
    {
     "data": {
      "text/plain": [
       "1.5619206968586228e-16"
      ]
     },
     "execution_count": 21,
     "metadata": {},
     "output_type": "execute_result"
    }
   ],
   "source": [
    "#Вычисление машинного эпсилон\n",
    "\n",
    "def exp_2(x):\n",
    "    k=1\n",
    "    term=1\n",
    "    sum=0\n",
    "    while sum != sum + term:\n",
    "            sum+=term\n",
    "            term=term*x/k\n",
    "            k+=1            \n",
    "    return term, sum\n",
    "\n",
    "exp_2(1)[0]"
   ]
  },
  {
   "cell_type": "code",
   "execution_count": 27,
   "metadata": {},
   "outputs": [],
   "source": [
    "import numpy as np\n",
    "import scipy.linalg as lin\n",
    "    \n",
    "\n",
    "def L_1(x):\n",
    "    return np.sum(abs(x))\n",
    "\n",
    "def L_2(x):\n",
    "    return np.sum(x**2)\n",
    "\n",
    "def cubic(x):\n",
    "    return np.max(abs(x))\n",
    "\n",
    "def matL_1(A):\n",
    "    coll=[]\n",
    "    for i in range(np.shape(A)[1]):\n",
    "        coll.append(np.sum(abs(A[:, i])))\n",
    "    return np.max(coll)\n",
    "    \n",
    "def matL_2(A):\n",
    "    return np.sqrt(np.max(lin.eigvals(A.T @ A)))\n",
    "\n",
    "def matcc(A):\n",
    "    coll=[]\n",
    "    for i in range(np.shape(A)[0]):\n",
    "        coll.append(np.sum(abs(A[i, :])))\n",
    "    return np.max(coll)\n",
    "\n",
    "def check(A):\n",
    "    return lin.det(A)==0\n",
    "\n",
    "\n",
    "def cnn_(mat_norm, A):\n",
    "    if np.shape(A)[0]==np.shape(A)[1]:\n",
    "        if lin.det(A):\n",
    "            return mat_norm(lin.inv(A))*mat_norm(A)\n",
    "        print(\"condition number is inf\")\n",
    "    print(\"got non-square matrix\")\n",
    "    \n"
   ]
  },
  {
   "cell_type": "code",
   "execution_count": 30,
   "metadata": {},
   "outputs": [
    {
     "data": {
      "text/plain": [
       "(5.721922304337434, 6.0450424311333615, 1.8206344580719316)"
      ]
     },
     "execution_count": 30,
     "metadata": {},
     "output_type": "execute_result"
    }
   ],
   "source": [
    "#Пример вычисления чисел обусловленности для разных норм\n",
    "A=np.random.random((2, 2)) \n",
    "cnn_(L_1, A), cnn_(L_2, A), cnn_(cubic, A)"
   ]
  },
  {
   "cell_type": "code",
   "execution_count": 164,
   "metadata": {
    "scrolled": true
   },
   "outputs": [],
   "source": [
    "a=1e-10\n",
    "\n",
    "def G_proc(B):\n",
    "    A=copy.deepcopy(B)\n",
    "    N=np.shape(A)[0]\n",
    "    for i in range(N):\n",
    "        if A[i][i]==0:\n",
    "            for k in range(i+1, N):\n",
    "                if A[k][i]!=0:\n",
    "                    A[[i, k], : ]=A[[k, i], :]\n",
    "                    break\n",
    "        else:\n",
    "            for j in range(i+1, N):\n",
    "                A[j, :]-=A[i, :]*A[j][i]/A[i][i]\n",
    "    return A\n",
    "\n",
    "def calc_rk(A):\n",
    "    B=copy.deepcopy(G_proc(A))\n",
    "    n=np.shape(B)[0]\n",
    "    ons=np.ones(n)\n",
    "    rk=0\n",
    "    while np.any(np.around(B[rk,:], 10)+ons!=ons):\n",
    "        rk+=1\n",
    "        if rk==n:\n",
    "            break\n",
    "    return rk"
   ]
  },
  {
   "cell_type": "code",
   "execution_count": 183,
   "metadata": {},
   "outputs": [
    {
     "name": "stdout",
     "output_type": "stream",
     "text": [
      "[[-1.5  0.5  1.  -1.5 -0.5]\n",
      " [ 0.5 -2.5  5.5 -3.  -1. ]\n",
      " [ 0.5 -2.5  5.5 -3.  -1. ]\n",
      " [-1.5 -1.5  6.  -4.5 -1.5]\n",
      " [-0.5 -2.5  7.  -4.5 -1.5]]\n",
      "2\n",
      "[[-1.50000000e+00  5.00000000e-01  1.00000000e+00 -1.50000000e+00\n",
      "  -5.00000000e-01]\n",
      " [ 0.00000000e+00 -2.33333333e+00  5.83333333e+00 -3.50000000e+00\n",
      "  -1.16666667e+00]\n",
      " [ 0.00000000e+00  0.00000000e+00  8.88178420e-16  0.00000000e+00\n",
      "   0.00000000e+00]\n",
      " [ 0.00000000e+00  0.00000000e+00  0.00000000e+00  4.44089210e-16\n",
      "   0.00000000e+00]\n",
      " [ 0.00000000e+00  0.00000000e+00  1.77635684e-15  0.00000000e+00\n",
      "   0.00000000e+00]]\n",
      "2\n"
     ]
    }
   ],
   "source": [
    "\n",
    "A=crt_rk(5, 2)\n",
    "print(A, calc_rk(A), sep='\\n')\n",
    "A=G_proc(A)\n",
    "print(A, calc_rk(A), sep='\\n')\n"
   ]
  },
  {
   "cell_type": "code",
   "execution_count": 139,
   "metadata": {},
   "outputs": [],
   "source": [
    "\n",
    "def solve_sys(A, y):\n",
    "    N=np.shape(A)[0]\n",
    "    A=G_proc(np.hstack((A, y)))\n",
    "    for i in range(N):\n",
    "        A[i,: ]/=A[i][i]\n",
    "    for i in range(N-1, -1, -1):\n",
    "        for j in range(i-1, -1, -1):\n",
    "            A[j,: ]-=A[i, : ]*A[j][i]\n",
    "    return A[:, N]\n"
   ]
  },
  {
   "cell_type": "code",
   "execution_count": 12,
   "metadata": {},
   "outputs": [
    {
     "name": "stdout",
     "output_type": "stream",
     "text": [
      "(50, 50)\n",
      "50\n",
      "50\n",
      "50\n",
      "[ 0.0302428  -0.40551942  0.17984904 -0.52121228  0.00590096  1.17058635\n",
      "  0.76442764  0.1869499   1.05641358  1.14858959 -0.87297428  1.20110343\n",
      " -0.78210461  1.41962466  0.16770201 -0.12906487 -1.96959139  0.37981007\n",
      " -0.17777367 -0.44345483  0.06371148 -0.09595975 -0.20016522 -0.43320988\n",
      "  0.36662728 -0.15207805 -0.2937725   0.20808693  0.54226977 -0.50874777\n",
      "  0.13972892  0.00716503 -0.03748624  0.07176328 -0.0490477  -0.03767985\n",
      " -0.08773368  0.02887352  0.07913425 -0.06001863  0.01808577 -0.02364553\n",
      " -0.08266452 -0.07634304 -0.00452394  0.00273816  0.00768882 -0.01034744\n",
      "  0.00314838 -0.00220067]\n",
      "[-2.41518190e+01  5.52950759e+01 -2.47946240e+01  3.06383648e+01\n",
      "  1.75150543e+01 -3.08695535e+01 -2.97730906e+01  1.95522101e+01\n",
      "  1.40850607e+01  2.11929584e+01  5.91177925e+00  1.19304455e+01\n",
      " -9.96098328e+00  1.50193614e+01  4.02673164e+00 -2.50361409e-01\n",
      " -1.58426612e+01  6.92830943e-01 -7.67165158e+00 -2.97012483e+00\n",
      " -1.70519714e+00 -3.17561453e-02  7.98818108e-01 -2.55815110e+00\n",
      "  3.32119503e+00 -6.78373810e-01 -7.81105840e-01  6.35017262e+00\n",
      "  6.28345559e+00 -5.79826608e+00  2.76779134e+00  8.34268681e-01\n",
      " -1.03096916e+00  6.40204098e-01 -5.03305483e-01 -3.14787077e-01\n",
      " -1.25122378e+00  1.68522744e+00  9.02207701e-01 -3.46470756e-01\n",
      "  5.03300349e-01 -3.29726320e-01 -1.33115539e+00 -1.09231567e+00\n",
      "  7.10745495e-02  1.25947811e-02 -3.06806036e-01  1.34770541e-02\n",
      "  1.05151411e-01 -4.10286142e-02]\n",
      "1.1039828728971948e+25\n",
      "0.5140551683061556\n"
     ]
    }
   ],
   "source": [
    "N=50\n",
    "\n",
    "y=np.array(np.random.randint(5, size=(N, 1))-2.5, dtype=float)\n",
    "A=crt_rk(N, N)\n",
    "print(np.shape(A))\n",
    "calc_rk(A)\n",
    "x=solve_sys(A, y)\n",
    "dy= np.random.normal(0, 0.1, y.shape)\n",
    "dx=solve_sys(A, dy)\n",
    "\n",
    "print(dx)\n",
    "print(x)\n",
    "mu=L_1(dx)/L_2(x)*L_2(y)/L_2(dy)\n",
    "print(cnn_(L_2, A)*cnn_(L_2, lin.inv(A)))\n",
    "print(mu)"
   ]
  },
  {
   "cell_type": "code",
   "execution_count": null,
   "metadata": {},
   "outputs": [],
   "source": []
  },
  {
   "cell_type": "code",
   "execution_count": null,
   "metadata": {},
   "outputs": [],
   "source": []
  }
 ],
 "metadata": {
  "kernelspec": {
   "display_name": "Python 3",
   "language": "python",
   "name": "python3"
  },
  "language_info": {
   "codemirror_mode": {
    "name": "ipython",
    "version": 3
   },
   "file_extension": ".py",
   "mimetype": "text/x-python",
   "name": "python",
   "nbconvert_exporter": "python",
   "pygments_lexer": "ipython3",
   "version": "3.8.5"
  }
 },
 "nbformat": 4,
 "nbformat_minor": 4
}
