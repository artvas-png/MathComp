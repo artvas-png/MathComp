{
 "cells": [
  {
   "cell_type": "markdown",
   "metadata": {},
   "source": [
    "# Задача предыдущая (3)"
   ]
  },
  {
   "cell_type": "code",
   "execution_count": 62,
   "metadata": {},
   "outputs": [
    {
     "data": {
      "image/png": "[encoded data removed]",
      "text/plain": [
       "<Figure size 432x288 with 1 Axes>"
      ]
     },
     "metadata": {
      "needs_background": "light"
     },
     "output_type": "display_data"
    }
   ],
   "source": [
    "\n",
    "import numpy as np\n",
    "from matplotlib import pyplot as plt\n",
    "from sklearn.linear_model import LinearRegression\n",
    "from sklearn.model_selection import KFold\n",
    "from sklearn.preprocessing import PolynomialFeatures\n",
    "\n",
    "x=np.arange(-1.5, 1.5, 0.015)\n",
    "y=np.sin(x)**6+np.random.normal(0, 0.03, len(x))\n",
    "\n",
    "DEG=5\n",
    "poly=PolynomialFeatures(DEG)\n",
    "X=poly.fit_transform(x.reshape(-1, 1))\n",
    "\n",
    "plt.scatter(x, y)\n",
    "plt.grid(True)\n",
    "plt.show()"
   ]
  },
  {
   "cell_type": "code",
   "execution_count": 36,
   "metadata": {},
   "outputs": [],
   "source": [
    "n_splits=3\n",
    "N=10000"
   ]
  },
  {
   "cell_type": "code",
   "execution_count": 37,
   "metadata": {},
   "outputs": [],
   "source": [
    "def iterate(X, y, w, alpha=alpha, mu=mu):\n",
    "    grad=2*(X @ w - y) @ X + mu * np.sign(w)\n",
    "    return w-alpha*grad"
   ]
  },
  {
   "cell_type": "code",
   "execution_count": 38,
   "metadata": {},
   "outputs": [],
   "source": [
    "def learn(X, y, w, N=N):\n",
    "    for i in range(N):\n",
    "        w=iterate(X, y, w)\n",
    "    return w"
   ]
  },
  {
   "cell_type": "code",
   "execution_count": 39,
   "metadata": {},
   "outputs": [],
   "source": [
    "def loss_func(X, w, y):\n",
    "    return np.sum((X @ w - y)**2)"
   ]
  },
  {
   "cell_type": "code",
   "execution_count": 65,
   "metadata": {},
   "outputs": [
    {
     "name": "stdout",
     "output_type": "stream",
     "text": [
      "Оптимальные параметры:\n",
      "mu=1.00, alpha=1.505000e-05\n",
      "Из диапозона mu[-1, 1], alpha[1e-7, 3e-5]\n",
      "Оптимальные веса:[-1.12546417e-02 -7.42658700e-06  2.01836070e-01  1.71261517e-05\n",
      "  1.38523988e-01  2.93454467e-04]\n"
     ]
    }
   ],
   "source": [
    "kf=KFold(n_splits, shuffle=True)\n",
    "\n",
    "loss_min=float(1e+10)\n",
    "mu_min, alpha_min=(0, 0)\n",
    "w_min=0\n",
    "\n",
    "for alpha in np.linspace(1e-7, 3e-5, 15):\n",
    "    for mu in np.linspace(-1, 1, 20):\n",
    "        for train, test in kf.split(X):\n",
    "                    X_train, X_test, y_train, y_test = X[train], X[test], y[train], y[test]\n",
    "                    w=np.random.normal(0, 0.1, X.shape[1])\n",
    "                    w=learn(X_train, y_train, w)\n",
    "                    if loss_min>loss_func(X_test, w, y_test):\n",
    "                        loss_min=loss_func(X_test, w, y_test)\n",
    "                        mu_min, alpha_min=mu, alpha\n",
    "                        w_min=w\n",
    "  \n",
    "print(\"Оптимальные параметры:\\n\"+\"mu={:.2f}, alpha={:2e}\".format(mu_min, alpha_min)\n",
    "           +\"\\n\"+\"Из диапозона mu[-1, 1], alpha[1e-7, 3e-5]\"+\"\\n\"+\"Оптимальные веса:\"+str(w_min))\n"
   ]
  },
  {
   "cell_type": "code",
   "execution_count": 69,
   "metadata": {
    "scrolled": true
   },
   "outputs": [
    {
     "data": {
      "image/png": "[encoded data removed]",
      "text/plain": [
       "<Figure size 432x288 with 1 Axes>"
      ]
     },
     "metadata": {
      "needs_background": "light"
     },
     "output_type": "display_data"
    }
   ],
   "source": [
    "t=np.arange(-1.5, 1.5, 0.01)\n",
    "z=poly.fit_transform(t.reshape(-1, 1))\n",
    "z=z @ w_min.reshape(-1, 1)\n",
    "plt.plot(t, z, c='r')\n",
    "plt.scatter(x, y)\n",
    "plt.grid(True)\n",
    "plt.show()"
   ]
  },
  {
   "cell_type": "markdown",
   "metadata": {},
   "source": [
    "# Задача следующая (4)"
   ]
  },
  {
   "cell_type": "code",
   "execution_count": 2,
   "metadata": {},
   "outputs": [],
   "source": [
    "import numpy as np\n",
    "from sklearn import datasets, linear_model\n",
    "import matplotlib.pyplot as plt"
   ]
  },
  {
   "cell_type": "code",
   "execution_count": 11,
   "metadata": {},
   "outputs": [
    {
     "name": "stdout",
     "output_type": "stream",
     "text": [
      "[  0.          -0.         471.03873321 136.50710814  -0.\n",
      "  -0.         -58.3195488    0.         408.02332435   0.        ]\n",
      "[  0.          -0.         420.01348311  63.17782765   0.\n",
      "   0.          -0.           0.         360.1092031    0.        ]\n",
      "[  0.          -0.         352.44892882   0.           0.\n",
      "   0.          -0.           0.         292.3350296    0.        ]\n",
      "[  0.           0.         267.55915473   0.           0.\n",
      "   0.          -0.           0.         207.43155868   0.        ]\n",
      "[  0.           0.         182.65755297   0.           0.\n",
      "   0.          -0.           0.         122.53336478   0.        ]\n",
      "[ 0.          0.         97.75595122  0.          0.          0.\n",
      " -0.          0.         37.63517087  0.        ]\n",
      "[ 0.  0.  0.  0.  0.  0. -0.  0.  0.  0.]\n",
      "[ 0.  0.  0.  0.  0.  0. -0.  0.  0.  0.]\n",
      "[ 0.  0.  0.  0.  0.  0. -0.  0.  0.  0.]\n",
      "[ 0.  0.  0.  0.  0.  0. -0.  0.  0.  0.]\n"
     ]
    }
   ],
   "source": [
    "data, target = datasets.load_diabetes(return_X_y=True, as_frame=True)\n",
    "\n",
    "coefs=np.linspace(0.5, 3, 10)\n",
    "for coef in coefs:\n",
    "    clf = linear_model.Lasso(alpha=coef, fit_intercept=True)\n",
    "    clf.fit(data, target)\n",
    "    ws = clf.coef_\n",
    "    print(ws)\n"
   ]
  },
  {
   "cell_type": "code",
   "execution_count": null,
   "metadata": {},
   "outputs": [],
   "source": []
  }
 ],
 "metadata": {
  "kernelspec": {
   "display_name": "Python 3",
   "language": "python",
   "name": "python3"
  },
  "language_info": {
   "codemirror_mode": {
    "name": "ipython",
    "version": 3
   },
   "file_extension": ".py",
   "mimetype": "text/x-python",
   "name": "python",
   "nbconvert_exporter": "python",
   "pygments_lexer": "ipython3",
   "version": "3.8.5"
  }
 },
 "nbformat": 4,
 "nbformat_minor": 4
}
