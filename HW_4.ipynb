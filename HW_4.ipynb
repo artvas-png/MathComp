{
 "cells": [
  {
   "cell_type": "code",
   "execution_count": 37,
   "metadata": {},
   "outputs": [],
   "source": [
    "import numpy as np\n",
    "from matplotlib import pyplot as plt\n",
    "from  sklearn.decomposition import PCA"
   ]
  },
  {
   "cell_type": "code",
   "execution_count": 41,
   "metadata": {},
   "outputs": [],
   "source": [
    "%matplotlib widget"
   ]
  },
  {
   "cell_type": "code",
   "execution_count": 39,
   "metadata": {},
   "outputs": [
    {
     "data": {
      "application/vnd.jupyter.widget-view+json": {
       "model_id": "605a31cd21d64084b3a257f9f0baf3b5",
       "version_major": 2,
       "version_minor": 0
      },
      "text/plain": [
       "Canvas(toolbar=Toolbar(toolitems=[('Home', 'Reset original view', 'home', 'home'), ('Back', 'Back to previous …"
      ]
     },
     "metadata": {},
     "output_type": "display_data"
    }
   ],
   "source": [
    "N=500\n",
    "\n",
    "A=np.random.random((3, 3))\n",
    "A=A@A.T\n",
    "\n",
    "X = np.random.multivariate_normal([0,0,0], A, N)\n",
    "x, y, z = X.T\n",
    "\n",
    "#Сначала PCA\n",
    "pca = PCA(n_components=2)\n",
    "noise = pca.fit_transform(X)\n",
    "\n",
    "fig_1=plt.figure()\n",
    "ax_1 = fig_1.add_subplot(projection='3d')\n",
    "ax_1.scatter(x, y, z, color=\"b\", alpha=0.1)\n",
    "\n",
    "#Строим отображение данных и декореллированных сингулярных векторов\n",
    "x0, y0, z0 = pca.components_[0];\n",
    "ax_1.plot([0, x0], [0, y0], [0, z0], color=\"r\")\n",
    "\n",
    "x1, y1, z1 = pca.components_[1];\n",
    "ax_1.plot([0, x1], [0, y1], [0, z1], color=\"r\")\n",
    "    \n",
    "\n",
    "ax_1.set_xlabel('x')\n",
    "ax_1.set_ylabel('y')\n",
    "ax_1.set_zlabel('z')\n",
    "\n",
    "plt.show()"
   ]
  },
  {
   "cell_type": "code",
   "execution_count": 40,
   "metadata": {},
   "outputs": [
    {
     "data": {
      "application/vnd.jupyter.widget-view+json": {
       "model_id": "79bca174945f4ab0af1d22ae1bd48543",
       "version_major": 2,
       "version_minor": 0
      },
      "text/plain": [
       "Canvas(toolbar=Toolbar(toolitems=[('Home', 'Reset original view', 'home', 'home'), ('Back', 'Back to previous …"
      ]
     },
     "metadata": {},
     "output_type": "display_data"
    }
   ],
   "source": [
    "#Теперь проекции на плоскости, задавающимися сингулярными векторами \n",
    "\n",
    "U, V, W= np.linalg.svd(X)\n",
    "\n",
    "R = X @ W.T\n",
    "fig_2, ax_2 = plt.subplots(3, figsize = (10, 10))\n",
    "ax_2[0].scatter(R.T[0], R.T[1])\n",
    "ax_2[1].scatter(R.T[0], R.T[2])\n",
    "ax_2[2].scatter(R.T[1], R.T[2])\n",
    "plt.show()"
   ]
  },
  {
   "cell_type": "code",
   "execution_count": null,
   "metadata": {},
   "outputs": [],
   "source": []
  }
 ],
 "metadata": {
  "kernelspec": {
   "display_name": "Python 3",
   "language": "python",
   "name": "python3"
  },
  "language_info": {
   "codemirror_mode": {
    "name": "ipython",
    "version": 3
   },
   "file_extension": ".py",
   "mimetype": "text/x-python",
   "name": "python",
   "nbconvert_exporter": "python",
   "pygments_lexer": "ipython3",
   "version": "3.8.5"
  }
 },
 "nbformat": 4,
 "nbformat_minor": 4
}
